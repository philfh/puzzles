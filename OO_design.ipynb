{
 "cells": [
  {
   "cell_type": "code",
   "execution_count": 2,
   "id": "dc9f7388-3154-4715-9d9a-58d0e35cd9c3",
   "metadata": {},
   "outputs": [],
   "source": [
    "from random import randint\n",
    "from enum import IntEnum"
   ]
  },
  {
   "cell_type": "code",
   "execution_count": 14,
   "id": "8d82bf0d-2cb2-4f3b-a6fa-903e316d787b",
   "metadata": {},
   "outputs": [
    {
     "data": {
      "text/plain": [
       "<VehicleType.bus: 3>"
      ]
     },
     "execution_count": 14,
     "metadata": {},
     "output_type": "execute_result"
    }
   ],
   "source": [
    "class VehicleType(IntEnum):\n",
    "    motocycle = 1\n",
    "    car = 2\n",
    "    bus = 3\n",
    "\n",
    "class Vehicle:\n",
    "    def __init__(self, plate, model, vehicle_type):\n",
    "        self.plate = plate\n",
    "        self.model = model\n",
    "        self.vehicle_type = vehicle_type\n",
    "        self.is_parked = False\n",
    "    \n",
    "    def check_parking(self):\n",
    "        pass\n",
    "    \n",
    "    def get_type(self):\n",
    "        return self.vehicle_type\n",
    "    \n",
    "class Motocycle(Vehicle):\n",
    "    def __init__(self, plate, model):\n",
    "        super().__init__(plate, model, VehicleType.motocycle)\n",
    "\n",
    "class Car(Vehicle):\n",
    "    def __init__(self, plate, model):\n",
    "        super().__init__(plate, model, VehicleType.car)\n",
    "\n",
    "class Bus(Vehicle):\n",
    "    def __init__(self, plate, model):\n",
    "        super().__init__(plate, model, VehicleType.bus)\n",
    "        \n",
    "Bus(12345, 'Tesla').get_type()"
   ]
  },
  {
   "cell_type": "code",
   "execution_count": 22,
   "id": "a4288298-2424-4f2a-bfe1-723d3fe9e4a0",
   "metadata": {},
   "outputs": [],
   "source": [
    "class ParkLevel:\n",
    "    \n",
    "    def __init__(self, level_id, available_spots):\n",
    "        self.level_id = level_id\n",
    "        self.available_spots = available_spots\n",
    "        self.parked_vehicles = {}\n",
    "        \n",
    "    def gen_token(self):\n",
    "        token = randint(1111, 9999)\n",
    "        while token in self.parked_vehicles:\n",
    "            token = randin(1111, 9999)\n",
    "        return token\n",
    "        \n",
    "    def is_full(self):\n",
    "        return not self.available_spots - len(self.parked_vehicles)\n",
    "    \n",
    "    def park(self, vehicle):\n",
    "        if not self.isfull():\n",
    "            token = self.register(vehicle)\n",
    "            self.available_spots -= 1\n",
    "            vehicle.is_parked = True\n",
    "            print('parked')\n",
    "            return token\n",
    "        print('no parking')\n",
    "            \n",
    "    def unpark(self):\n",
    "        pass\n",
    "    \n",
    "    def register(self, vehicle):\n",
    "        token = self.gen_token()\n",
    "        self.parked_vehicles[token] = vehicle\n",
    "        return token"
   ]
  },
  {
   "cell_type": "code",
   "execution_count": 21,
   "id": "3352faed-5972-4686-9f6b-42d66691c2c5",
   "metadata": {},
   "outputs": [
    {
     "data": {
      "text/plain": [
       "True"
      ]
     },
     "execution_count": 21,
     "metadata": {},
     "output_type": "execute_result"
    }
   ],
   "source": [
    "'dd' in {'a': 32343, 'b': 'dd'}.values()"
   ]
  }
 ],
 "metadata": {
  "kernelspec": {
   "display_name": "Python 3 (ipykernel)",
   "language": "python",
   "name": "python3"
  },
  "language_info": {
   "codemirror_mode": {
    "name": "ipython",
    "version": 3
   },
   "file_extension": ".py",
   "mimetype": "text/x-python",
   "name": "python",
   "nbconvert_exporter": "python",
   "pygments_lexer": "ipython3",
   "version": "3.9.7"
  }
 },
 "nbformat": 4,
 "nbformat_minor": 5
}
