{
 "cells": [
  {
   "cell_type": "code",
   "execution_count": 45,
   "metadata": {},
   "outputs": [],
   "source": [
    "import numpy as np"
   ]
  },
  {
   "cell_type": "markdown",
   "metadata": {},
   "source": [
    "# EP 5: Array"
   ]
  },
  {
   "cell_type": "markdown",
   "metadata": {},
   "source": [
    "EP 5.0: Even entries first"
   ]
  },
  {
   "cell_type": "code",
   "execution_count": 38,
   "metadata": {},
   "outputs": [
    {
     "name": "stdout",
     "output_type": "stream",
     "text": [
      "CPU times: user 4 µs, sys: 1 µs, total: 5 µs\n",
      "Wall time: 7.15 µs\n"
     ]
    }
   ],
   "source": [
    "a = list(range(100))\n",
    "%time b = a[1::2]+a[::2]"
   ]
  },
  {
   "cell_type": "code",
   "execution_count": 41,
   "metadata": {},
   "outputs": [
    {
     "name": "stdout",
     "output_type": "stream",
     "text": [
      "CPU times: user 2 µs, sys: 1e+03 ns, total: 3 µs\n",
      "Wall time: 4.05 µs\n"
     ]
    }
   ],
   "source": [
    "a = list(range(100))\n",
    "%time\n",
    "for i in range(len(a)//2):\n",
    "    a[i], a[2*i+1] = a[2*i+1], a[i]\n"
   ]
  },
  {
   "cell_type": "markdown",
   "metadata": {},
   "source": [
    "EP 5.1: Dutch national flag problem"
   ]
  },
  {
   "cell_type": "code",
   "execution_count": null,
   "metadata": {},
   "outputs": [],
   "source": []
  },
  {
   "cell_type": "markdown",
   "metadata": {},
   "source": [
    "EP 5.5 Delete dupicated numbers from a sorted array "
   ]
  },
  {
   "cell_type": "code",
   "execution_count": 4,
   "metadata": {},
   "outputs": [
    {
     "ename": "SyntaxError",
     "evalue": "invalid syntax (<ipython-input-4-03d43c05850f>, line 4)",
     "output_type": "error",
     "traceback": [
      "\u001b[0;36m  File \u001b[0;32m\"<ipython-input-4-03d43c05850f>\"\u001b[0;36m, line \u001b[0;32m4\u001b[0m\n\u001b[0;31m    for j in range(N)\"\"\u001b[0m\n\u001b[0m                      ^\u001b[0m\n\u001b[0;31mSyntaxError\u001b[0m\u001b[0;31m:\u001b[0m invalid syntax\n"
     ]
    }
   ],
   "source": [
    "a = [2,3,5,5,7,77,11,17,13]\n",
    "N = len(a)\n",
    "for i in range(N):\n",
    "    if a[i] == a[i+1]:\n",
    "        for j in range(N):\n",
    "            \n",
    "        "
   ]
  },
  {
   "cell_type": "markdown",
   "metadata": {},
   "source": [
    "EP 5.14: Compute random permutation"
   ]
  },
  {
   "cell_type": "code",
   "execution_count": null,
   "metadata": {},
   "outputs": [],
   "source": []
  },
  {
   "cell_type": "markdown",
   "metadata": {},
   "source": [
    "EP 5.18: Compute spiral orderin of 2d array"
   ]
  },
  {
   "cell_type": "code",
   "execution_count": 77,
   "metadata": {},
   "outputs": [
    {
     "name": "stdout",
     "output_type": "stream",
     "text": [
      "Orig:\n",
      " [[ 0  1  2  3]\n",
      " [ 4  5  6  7]\n",
      " [ 8  9 10 11]\n",
      " [12 13 14 15]] \n",
      " Spiral order: \n",
      " [0, 1, 2, 3, 7, 11, 15, 14, 13, 12, 8, 4, 5, 6, 10, 9]\n"
     ]
    }
   ],
   "source": [
    "dim_x = 4\n",
    "a = np.reshape(range(dim_x**2), (dim_x, dim_x))\n",
    "r_max, c_max = a.shape[0], a.shape[1]\n",
    "r_min, c_min = (0, 0)\n",
    "res = []\n",
    "while ((r_min < r_max) & (c_min < c_max)):\n",
    "    for j in range(c_min, c_max):\n",
    "        res.append(a[r_min, j])\n",
    "    r_min += 1\n",
    "    for i in range(r_min, r_max):\n",
    "        res.append(a[i, c_max-1])\n",
    "    c_max -= 1\n",
    "    for j in range(c_max-1, c_min-1, -1):\n",
    "        res.append(a[r_max-1, j])\n",
    "    r_max -= 1\n",
    "    for i in range(r_max-1, r_min-1, -1):\n",
    "        res.append(a[i, c_min])\n",
    "    c_min += 1\n",
    "print(f'Orig:\\n {a} \\n Spiral order: \\n {res}')"
   ]
  },
  {
   "cell_type": "code",
   "execution_count": 69,
   "metadata": {},
   "outputs": [
    {
     "ename": "TypeError",
     "evalue": "unsupported operand type(s) for -: 'tuple' and 'int'",
     "output_type": "error",
     "traceback": [
      "\u001b[0;31m---------------------------------------------------------------------------\u001b[0m",
      "\u001b[0;31mTypeError\u001b[0m                                 Traceback (most recent call last)",
      "\u001b[0;32m<ipython-input-69-d3ab735addc9>\u001b[0m in \u001b[0;36m<module>\u001b[0;34m()\u001b[0m\n\u001b[0;32m----> 1\u001b[0;31m \u001b[0ma\u001b[0m\u001b[0;34m.\u001b[0m\u001b[0mshape\u001b[0m \u001b[0;34m-\u001b[0m\u001b[0;36m1\u001b[0m\u001b[0;34m\u001b[0m\u001b[0;34m\u001b[0m\u001b[0m\n\u001b[0m",
      "\u001b[0;31mTypeError\u001b[0m: unsupported operand type(s) for -: 'tuple' and 'int'"
     ]
    }
   ],
   "source": []
  },
  {
   "cell_type": "markdown",
   "metadata": {},
   "source": [
    "EP 5.19: Rotate 2d array"
   ]
  },
  {
   "cell_type": "code",
   "execution_count": null,
   "metadata": {},
   "outputs": [],
   "source": []
  },
  {
   "cell_type": "markdown",
   "metadata": {},
   "source": [
    "EP 5.20: Compute Nth row in Pascal's triangle"
   ]
  },
  {
   "cell_type": "code",
   "execution_count": null,
   "metadata": {},
   "outputs": [],
   "source": []
  },
  {
   "cell_type": "markdown",
   "metadata": {},
   "source": [
    "# EP 6: String"
   ]
  },
  {
   "cell_type": "markdown",
   "metadata": {},
   "source": [
    "EP 6.0: Test panlindromicity"
   ]
  },
  {
   "cell_type": "code",
   "execution_count": 4,
   "metadata": {},
   "outputs": [
    {
     "data": {
      "text/plain": [
       "5"
      ]
     },
     "metadata": {},
     "output_type": "display_data"
    },
    {
     "data": {
      "text/plain": [
       "1"
      ]
     },
     "metadata": {},
     "output_type": "display_data"
    }
   ],
   "source": [
    "s = 'adb3kdda3k3008mdaf'\n",
    "s[~2]\n",
    "display(21//4, 21%4)"
   ]
  },
  {
   "cell_type": "markdown",
   "metadata": {},
   "source": [
    "EP 6.1: atoi, itoa"
   ]
  },
  {
   "cell_type": "code",
   "execution_count": 23,
   "metadata": {},
   "outputs": [
    {
     "data": {
      "text/plain": [
       "992343242"
      ]
     },
     "execution_count": 23,
     "metadata": {},
     "output_type": "execute_result"
    }
   ],
   "source": [
    "def atoi(s):\n",
    "    start = 1 if s[0]=='-' else 0\n",
    "    res = int(s[start])\n",
    "    for i in range(1+start, len(s)):\n",
    "        res = 10*res + int(s[i])\n",
    "    return res * (-1)**start\n",
    "s = '992343242'\n",
    "atoi(s)\n"
   ]
  },
  {
   "cell_type": "code",
   "execution_count": null,
   "metadata": {},
   "outputs": [],
   "source": [
    "def itoa(i):\n",
    "    start = 1 if i < 0 else 0\n",
    "    s = [i//10**j for j in range(len(i))]"
   ]
  },
  {
   "cell_type": "markdown",
   "metadata": {},
   "source": [
    "EP 6.6: Reveser words in a sentence"
   ]
  },
  {
   "cell_type": "code",
   "execution_count": null,
   "metadata": {
    "tags": []
   },
   "outputs": [],
   "source": []
  },
  {
   "cell_type": "markdown",
   "metadata": {},
   "source": [
    "EP 6.0: Test panlindromicity"
   ]
  },
  {
   "cell_type": "code",
   "execution_count": null,
   "metadata": {},
   "outputs": [],
   "source": []
  },
  {
   "cell_type": "markdown",
   "metadata": {},
   "source": [
    "EP 6.0: Test panlindromicity"
   ]
  },
  {
   "cell_type": "code",
   "execution_count": null,
   "metadata": {},
   "outputs": [],
   "source": []
  },
  {
   "cell_type": "markdown",
   "metadata": {},
   "source": [
    "# EP 7: Linked list "
   ]
  },
  {
   "cell_type": "markdown",
   "metadata": {},
   "source": [
    "EP 7.0: Build linked list, search, insert, delete"
   ]
  },
  {
   "cell_type": "code",
   "execution_count": 43,
   "metadata": {},
   "outputs": [
    {
     "name": "stdout",
     "output_type": "stream",
     "text": [
      "3\n",
      "4\n",
      "5\n",
      "23\n",
      "-33\n"
     ]
    }
   ],
   "source": [
    "class ListNode:\n",
    "    def __init__(self, data=0, next_node=None):\n",
    "        self.data = data\n",
    "        self.next_node = next_node\n",
    "\n",
    "def insert_node(curr_node, new_node):\n",
    "    ''' insert after curr_node'''\n",
    "    if curr_node is not None:\n",
    "        new_node.next_node = curr_node.next_node\n",
    "        curr_node.next_node = new_node\n",
    "    return new_node\n",
    "\n",
    "def print_linked_list(head):\n",
    "    while head is not None:\n",
    "        i, head = head.data, head.next_node\n",
    "        print(f'{i}')\n",
    "\n",
    "def build_linked_list(a):\n",
    "    head = tail = ListNode(data=a[0])\n",
    "    if len(a) == 1:\n",
    "        return head\n",
    "    for i in a[1:]:\n",
    "        tail = insert_node(tail, ListNode(i))\n",
    "    return head\n",
    "\n",
    "def search_node(head, data):\n",
    "    while head is not None:\n",
    "        if head.data == data:\n",
    "            return head\n",
    "        head = head.next\n",
    "\n",
    "def delete_node(node):\n",
    "    # delete the node after\n",
    "\n",
    "a = [3, 4, 5, 23,-33]\n",
    "head = build_linked_list(a)\n",
    "print_linked_list(head)\n"
   ]
  },
  {
   "cell_type": "code",
   "execution_count": 59,
   "metadata": {},
   "outputs": [
    {
     "data": {
      "text/plain": [
       "'3'"
      ]
     },
     "execution_count": 59,
     "metadata": {},
     "output_type": "execute_result"
    }
   ],
   "source": [
    "str(3)"
   ]
  }
 ],
 "metadata": {
  "kernelspec": {
   "display_name": "Python 3",
   "language": "python",
   "name": "python3"
  },
  "language_info": {
   "codemirror_mode": {
    "name": "ipython",
    "version": 3
   },
   "file_extension": ".py",
   "mimetype": "text/x-python",
   "name": "python",
   "nbconvert_exporter": "python",
   "pygments_lexer": "ipython3",
   "version": "3.6.8"
  }
 },
 "nbformat": 4,
 "nbformat_minor": 4
}
