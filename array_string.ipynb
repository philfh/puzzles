{
 "cells": [
  {
   "cell_type": "code",
   "execution_count": 4,
   "metadata": {},
   "outputs": [],
   "source": [
    "import numpy as np"
   ]
  },
  {
   "cell_type": "markdown",
   "metadata": {
    "tags": []
   },
   "source": [
    "# EP 5: Array"
   ]
  },
  {
   "cell_type": "markdown",
   "metadata": {
    "tags": []
   },
   "source": [
    "## EP 5.0: Even entries first"
   ]
  },
  {
   "cell_type": "code",
   "execution_count": 5,
   "metadata": {
    "tags": []
   },
   "outputs": [
    {
     "name": "stdout",
     "output_type": "stream",
     "text": [
      "CPU times: user 8 µs, sys: 1 µs, total: 9 µs\n",
      "Wall time: 17.2 µs\n"
     ]
    }
   ],
   "source": [
    "a = list(range(100))\n",
    "%time b = a[1::2]+a[::2]"
   ]
  },
  {
   "cell_type": "code",
   "execution_count": 41,
   "metadata": {
    "tags": []
   },
   "outputs": [
    {
     "name": "stdout",
     "output_type": "stream",
     "text": [
      "CPU times: user 2 µs, sys: 1e+03 ns, total: 3 µs\n",
      "Wall time: 4.05 µs\n"
     ]
    }
   ],
   "source": [
    "a = list(range(100))\n",
    "%time\n",
    "for i in range(len(a)//2):\n",
    "    a[i], a[2*i+1] = a[2*i+1], a[i]\n"
   ]
  },
  {
   "cell_type": "markdown",
   "metadata": {},
   "source": [
    "## EP 5.1: Dutch national flag problem"
   ]
  },
  {
   "cell_type": "code",
   "execution_count": null,
   "metadata": {},
   "outputs": [],
   "source": []
  },
  {
   "cell_type": "markdown",
   "metadata": {},
   "source": [
    "## EP 5.5 Delete dupicated numbers from a sorted array "
   ]
  },
  {
   "cell_type": "code",
   "execution_count": 15,
   "metadata": {},
   "outputs": [
    {
     "data": {
      "text/plain": [
       "[2, 3, 5, 7, 77, 11, 17, 13, 55, 0]"
      ]
     },
     "execution_count": 15,
     "metadata": {},
     "output_type": "execute_result"
    }
   ],
   "source": [
    "a = [2,3,5,5,7,77,11,17,13, 13 ,13, 13, 55,55, 0]\n",
    "N = len(a)\n",
    "i = j = 1\n",
    "while j < N:\n",
    "    while a[j] == a[j-1]:\n",
    "        if j < N-1:\n",
    "            j += 1\n",
    "        else:\n",
    "            break\n",
    "    a[i] = a[j]\n",
    "    i += 1\n",
    "    j += 1\n",
    "res = a[:i]\n",
    "res        "
   ]
  },
  {
   "cell_type": "markdown",
   "metadata": {},
   "source": [
    "## EP 5.14: Compute random permutation"
   ]
  },
  {
   "cell_type": "code",
   "execution_count": null,
   "metadata": {},
   "outputs": [],
   "source": []
  },
  {
   "cell_type": "markdown",
   "metadata": {},
   "source": [
    "## EP 5.18: Compute spiral orderin of 2d array"
   ]
  },
  {
   "cell_type": "code",
   "execution_count": 77,
   "metadata": {},
   "outputs": [
    {
     "name": "stdout",
     "output_type": "stream",
     "text": [
      "Orig:\n",
      " [[ 0  1  2  3]\n",
      " [ 4  5  6  7]\n",
      " [ 8  9 10 11]\n",
      " [12 13 14 15]] \n",
      " Spiral order: \n",
      " [0, 1, 2, 3, 7, 11, 15, 14, 13, 12, 8, 4, 5, 6, 10, 9]\n"
     ]
    }
   ],
   "source": [
    "dim_x = 4\n",
    "a = np.reshape(range(dim_x**2), (dim_x, dim_x))\n",
    "r_max, c_max = a.shape[0], a.shape[1]\n",
    "r_min, c_min = (0, 0)\n",
    "res = []\n",
    "while ((r_min < r_max) & (c_min < c_max)):\n",
    "    for j in range(c_min, c_max):\n",
    "        res.append(a[r_min, j])\n",
    "    r_min += 1\n",
    "    for i in range(r_min, r_max):\n",
    "        res.append(a[i, c_max-1])\n",
    "    c_max -= 1\n",
    "    for j in range(c_max-1, c_min-1, -1):\n",
    "        res.append(a[r_max-1, j])\n",
    "    r_max -= 1\n",
    "    for i in range(r_max-1, r_min-1, -1):\n",
    "        res.append(a[i, c_min])\n",
    "    c_min += 1\n",
    "print(f'Orig:\\n {a} \\n Spiral order: \\n {res}')"
   ]
  },
  {
   "cell_type": "code",
   "execution_count": null,
   "metadata": {},
   "outputs": [],
   "source": []
  },
  {
   "cell_type": "markdown",
   "metadata": {},
   "source": [
    "## EP 5.19: Rotate 2d array"
   ]
  },
  {
   "cell_type": "code",
   "execution_count": null,
   "metadata": {},
   "outputs": [],
   "source": []
  },
  {
   "cell_type": "markdown",
   "metadata": {},
   "source": [
    "## EP 5.20: Compute Nth row in Pascal's triangle"
   ]
  },
  {
   "cell_type": "code",
   "execution_count": null,
   "metadata": {},
   "outputs": [],
   "source": []
  },
  {
   "cell_type": "markdown",
   "metadata": {},
   "source": [
    "# EP 6: String"
   ]
  },
  {
   "cell_type": "markdown",
   "metadata": {},
   "source": [
    "## EP 6.0: Test panlindromicity"
   ]
  },
  {
   "cell_type": "code",
   "execution_count": 14,
   "metadata": {},
   "outputs": [
    {
     "data": {
      "text/plain": [
       "True"
      ]
     },
     "execution_count": 14,
     "metadata": {},
     "output_type": "execute_result"
    }
   ],
   "source": [
    "# s = 'adb3kdda3k3008mdaf'\n",
    "# s[~2], s[~1], s[~0], s[-3], s[-2], s[-1]\n",
    "s = 'annaaanna'\n",
    "def is_pan(s):\n",
    "    return all(s[i] == s[-(i+1)] for i in range(len(s)//2))\n",
    "is_pan(s)"
   ]
  },
  {
   "cell_type": "code",
   "execution_count": 24,
   "metadata": {},
   "outputs": [
    {
     "data": {
      "text/plain": [
       "['3', 'd', 'd', 'd']"
      ]
     },
     "execution_count": 24,
     "metadata": {},
     "output_type": "execute_result"
    }
   ],
   "source": [
    "list(reversed('ddd3'))"
   ]
  },
  {
   "cell_type": "code",
   "execution_count": 28,
   "metadata": {},
   "outputs": [
    {
     "data": {
      "text/plain": [
       "True"
      ]
     },
     "execution_count": 28,
     "metadata": {},
     "output_type": "execute_result"
    }
   ],
   "source": [
    "s = 'ddd9ddd'\n",
    "def is_pan1(s):\n",
    "    return s == ''.join(reversed(s))\n",
    "is_pan1(s)"
   ]
  },
  {
   "cell_type": "markdown",
   "metadata": {},
   "source": [
    "## EP 6.1: atoi, itoa"
   ]
  },
  {
   "cell_type": "code",
   "execution_count": 23,
   "metadata": {},
   "outputs": [
    {
     "data": {
      "text/plain": [
       "992343242"
      ]
     },
     "execution_count": 23,
     "metadata": {},
     "output_type": "execute_result"
    }
   ],
   "source": [
    "def atoi(s):\n",
    "    start = 1 if s[0]=='-' else 0\n",
    "    res = int(s[start])\n",
    "    for i in range(1+start, len(s)):\n",
    "        res = 10*res + int(s[i])\n",
    "    return res * (-1)**start\n",
    "s = '992343242'\n",
    "atoi(s)\n"
   ]
  },
  {
   "cell_type": "code",
   "execution_count": null,
   "metadata": {},
   "outputs": [],
   "source": [
    "def itoa(i):\n",
    "    start = 1 if i < 0 else 0\n",
    "    s = [i//10**j for j in range(len(i))]"
   ]
  },
  {
   "cell_type": "markdown",
   "metadata": {},
   "source": [
    "## EP 6.4: Column name -> Decimal"
   ]
  },
  {
   "cell_type": "code",
   "execution_count": 5,
   "metadata": {},
   "outputs": [
    {
     "data": {
      "text/plain": [
       "2"
      ]
     },
     "execution_count": 5,
     "metadata": {},
     "output_type": "execute_result"
    }
   ],
   "source": [
    "s = 'AA'\n",
    "res = 0\n",
    "for c in s:\n",
    "    res += ord(c) - ord('A') + 1\n",
    "res"
   ]
  },
  {
   "cell_type": "code",
   "execution_count": 35,
   "metadata": {},
   "outputs": [
    {
     "data": {
      "text/plain": [
       "702"
      ]
     },
     "execution_count": 35,
     "metadata": {},
     "output_type": "execute_result"
    }
   ],
   "source": [
    "s = 'ZZ'\n",
    "from functools import reduce\n",
    "def col_to_num(s):\n",
    "    return reduce(lambda running_sum, y: running_sum * 26 + ord(y) - ord('A') + 1, s, 0)\n",
    "col_to_num(s)"
   ]
  },
  {
   "cell_type": "markdown",
   "metadata": {},
   "source": [
    "EP 6.6: Reveser words in a sentence"
   ]
  },
  {
   "cell_type": "code",
   "execution_count": 47,
   "metadata": {},
   "outputs": [
    {
     "data": {
      "text/plain": [
       "Counter({'d': 3, 'a': 2, 'c': 1})"
      ]
     },
     "execution_count": 47,
     "metadata": {},
     "output_type": "execute_result"
    }
   ],
   "source": [
    "Counter(a)"
   ]
  },
  {
   "cell_type": "code",
   "execution_count": 52,
   "metadata": {
    "tags": []
   },
   "outputs": [
    {
     "data": {
      "text/plain": [
       "[('d', 3), ('a', 2), ('c', 1)]"
      ]
     },
     "execution_count": 52,
     "metadata": {},
     "output_type": "execute_result"
    }
   ],
   "source": [
    "from collections import Counter\n",
    "a = 'dddaac'\n",
    "# [k for k, v in Counter(a) if v == 1][0]\n",
    "[(k, v) for k, v in Counter(a).items()]"
   ]
  },
  {
   "cell_type": "markdown",
   "metadata": {},
   "source": [
    "EP 6.0: Test panlindromicity"
   ]
  },
  {
   "cell_type": "code",
   "execution_count": 60,
   "metadata": {},
   "outputs": [
    {
     "data": {
      "text/plain": [
       "False"
      ]
     },
     "execution_count": 60,
     "metadata": {},
     "output_type": "execute_result"
    }
   ],
   "source": [
    "[\"\"] == True"
   ]
  },
  {
   "cell_type": "markdown",
   "metadata": {},
   "source": [
    "EP 6.0: Test panlindromicity"
   ]
  },
  {
   "cell_type": "code",
   "execution_count": null,
   "metadata": {},
   "outputs": [],
   "source": []
  },
  {
   "cell_type": "markdown",
   "metadata": {},
   "source": [
    "# EP 7: Linked list "
   ]
  },
  {
   "cell_type": "markdown",
   "metadata": {},
   "source": [
    "## EP 7.0: Build linked list, search, insert, delete"
   ]
  },
  {
   "cell_type": "code",
   "execution_count": 11,
   "metadata": {},
   "outputs": [
    {
     "name": "stdout",
     "output_type": "stream",
     "text": [
      "3\n",
      "4\n",
      "5\n",
      "23\n",
      "-33\n"
     ]
    }
   ],
   "source": [
    "class ListNode:\n",
    "    def __init__(self, data=0, next=None):\n",
    "        self.data = data\n",
    "        self.next = next\n",
    "\n",
    "def insert_node(curr_node, new_node):\n",
    "    ''' insert after curr_node'''\n",
    "    if curr_node is not None:\n",
    "        new_node.next = curr_node.next\n",
    "        curr_node.next = new_node\n",
    "    return new_node\n",
    "\n",
    "def print_linked_list(head):\n",
    "    while head is not None:\n",
    "        i, head = head.data, head.next\n",
    "        print(f'{i}')\n",
    "\n",
    "def build_linked_list(a):\n",
    "    head = tail = ListNode(data=a[0])\n",
    "    if len(a) == 1:\n",
    "        return head\n",
    "    for i in a[1:]:\n",
    "        tail = insert_node(tail, ListNode(i))\n",
    "    return head\n",
    "\n",
    "def search_node(head, data):\n",
    "    while head is not None:\n",
    "        if head.data == data:\n",
    "            return head\n",
    "        head = head.next\n",
    "\n",
    "def delete_node(node):\n",
    "    # delete the node after\n",
    "    pass\n",
    "\n",
    "a = [3, 4, 5, 23,-33]\n",
    "head = build_linked_list(a)\n",
    "print_linked_list(head)\n"
   ]
  },
  {
   "cell_type": "markdown",
   "metadata": {
    "tags": []
   },
   "source": [
    "## EP7.1 Merge two sorted lists"
   ]
  },
  {
   "cell_type": "code",
   "execution_count": 14,
   "metadata": {},
   "outputs": [
    {
     "name": "stdout",
     "output_type": "stream",
     "text": [
      "-33\n",
      "-2\n",
      "0\n",
      "1\n",
      "3\n",
      "4\n",
      "4\n",
      "5\n",
      "23\n",
      "66\n"
     ]
    }
   ],
   "source": [
    "def merge_sorted_lists(head1, head2):\n",
    "    curr1, curr2 = head1, head2\n",
    "    head = curr = ListNode()\n",
    "    while curr1 and curr2:\n",
    "        if curr1.data < curr2.data:\n",
    "            curr.next, curr1 = curr1, curr1.next\n",
    "        else:\n",
    "            curr.next, curr2 = curr2, curr2.next\n",
    "        curr = curr.next\n",
    "    curr.next = curr2 if not curr1 else curr1\n",
    "    return head.next\n",
    "        \n",
    "\n",
    "a = [-33, 3, 4, 5, 23]\n",
    "head1 = build_linked_list(a)\n",
    "b = [-2, 0, 1, 4, 66]\n",
    "head2 = build_linked_list(b)\n",
    "head_merge=merge_sorted_lists(head1, head2)\n",
    "print_linked_list(head_merge)"
   ]
  },
  {
   "cell_type": "code",
   "execution_count": 15,
   "metadata": {},
   "outputs": [
    {
     "data": {
      "text/plain": [
       "<__main__.ListNode at 0x7fa220555070>"
      ]
     },
     "execution_count": 15,
     "metadata": {},
     "output_type": "execute_result"
    }
   ],
   "source": [
    "head1 or head1"
   ]
  },
  {
   "cell_type": "markdown",
   "metadata": {},
   "source": [
    "# EP 8: Stack\n",
    "## EP 8.0: Reverse linked list"
   ]
  },
  {
   "cell_type": "code",
   "execution_count": null,
   "metadata": {},
   "outputs": [],
   "source": []
  },
  {
   "cell_type": "markdown",
   "metadata": {},
   "source": [
    "## EP 8.3: Test well-formedness of parenthesis/braces/brackets"
   ]
  },
  {
   "cell_type": "code",
   "execution_count": null,
   "metadata": {},
   "outputs": [],
   "source": []
  },
  {
   "cell_type": "markdown",
   "metadata": {},
   "source": [
    "## EP 8.5: Find building with sunset view"
   ]
  },
  {
   "cell_type": "code",
   "execution_count": null,
   "metadata": {},
   "outputs": [],
   "source": []
  },
  {
   "cell_type": "code",
   "execution_count": 59,
   "metadata": {},
   "outputs": [
    {
     "data": {
      "text/plain": [
       "'3'"
      ]
     },
     "execution_count": 59,
     "metadata": {},
     "output_type": "execute_result"
    }
   ],
   "source": [
    "str(3)"
   ]
  },
  {
   "cell_type": "markdown",
   "metadata": {},
   "source": [
    "## EP 8.8 Implement queue using stack"
   ]
  },
  {
   "cell_type": "code",
   "execution_count": 32,
   "metadata": {},
   "outputs": [
    {
     "data": {
      "text/plain": [
       "-33"
      ]
     },
     "execution_count": 32,
     "metadata": {},
     "output_type": "execute_result"
    }
   ],
   "source": [
    "class queue:\n",
    "    def __init__(self):\n",
    "        self.stack1, self.stack2 = [], []\n",
    "        \n",
    "    def enqueue(self, i):\n",
    "        self.stack1.append(i)\n",
    "        \n",
    "    def dequeue(self):\n",
    "        while len(self.stack1):\n",
    "            self.stack2.append(self.stack1.pop())\n",
    "        if len(self.stack2):\n",
    "            return self.stack2.pop()\n",
    "        else:\n",
    "            print('Empty queue')\n",
    "\n",
    "a = [-33, 3, 4, 5, 23]\n",
    "q = queue()\n",
    "[q.enqueue(i) for i in a]\n",
    "q.dequeue()\n"
   ]
  }
 ],
 "metadata": {
  "kernelspec": {
   "display_name": "Python 3 (ipykernel)",
   "language": "python",
   "name": "python3"
  },
  "language_info": {
   "codemirror_mode": {
    "name": "ipython",
    "version": 3
   },
   "file_extension": ".py",
   "mimetype": "text/x-python",
   "name": "python",
   "nbconvert_exporter": "python",
   "pygments_lexer": "ipython3",
   "version": "3.9.7"
  }
 },
 "nbformat": 4,
 "nbformat_minor": 4
}
