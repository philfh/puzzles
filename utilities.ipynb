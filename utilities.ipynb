{
 "cells": [
  {
   "cell_type": "code",
   "execution_count": 52,
   "metadata": {},
   "outputs": [],
   "source": [
    "import numpy as np\n",
    "import pandas as pd\n",
    "from pathlib import Path\n",
    "import matplotlib.pyplot as plt\n",
    "import matplotlib.ticker as ticker\n",
    "import re\n",
    "import operator\n",
    "from functools import reduce\n",
    "\n",
    "import warnings\n",
    "warnings.filterwarnings('ignore')"
   ]
  },
  {
   "cell_type": "markdown",
   "metadata": {},
   "source": [
    "# I/O"
   ]
  },
  {
   "cell_type": "markdown",
   "metadata": {},
   "source": [
    "## to_excel\n",
    "https://stackoverflow.com/questions/59216329/how-to-export-the-pandas-conditional-formatting-to-an-excel-file"
   ]
  },
  {
   "cell_type": "code",
   "execution_count": 2,
   "metadata": {},
   "outputs": [
    {
     "data": {
      "text/html": [
       "<style  type=\"text/css\" >\n",
       "    #T_7bfa9efa_5cfd_11ec_b644_f40f240d1c32row0_col0 {\n",
       "            color:  black;\n",
       "            : ;\n",
       "            color:  black;\n",
       "            : ;\n",
       "        }    #T_7bfa9efa_5cfd_11ec_b644_f40f240d1c32row0_col1 {\n",
       "            color:  black;\n",
       "            : ;\n",
       "            color:  black;\n",
       "            : ;\n",
       "        }    #T_7bfa9efa_5cfd_11ec_b644_f40f240d1c32row0_col2 {\n",
       "            color:  black;\n",
       "            : ;\n",
       "            color:  black;\n",
       "            : ;\n",
       "        }    #T_7bfa9efa_5cfd_11ec_b644_f40f240d1c32row0_col3 {\n",
       "            color:  red;\n",
       "            : ;\n",
       "            color:  red;\n",
       "            : ;\n",
       "        }    #T_7bfa9efa_5cfd_11ec_b644_f40f240d1c32row0_col4 {\n",
       "            color:  red;\n",
       "            : ;\n",
       "            color:  red;\n",
       "            : ;\n",
       "        }    #T_7bfa9efa_5cfd_11ec_b644_f40f240d1c32row1_col0 {\n",
       "            color:  black;\n",
       "            : ;\n",
       "            color:  black;\n",
       "            : ;\n",
       "        }    #T_7bfa9efa_5cfd_11ec_b644_f40f240d1c32row1_col1 {\n",
       "            color:  red;\n",
       "            : ;\n",
       "            color:  red;\n",
       "            : ;\n",
       "        }    #T_7bfa9efa_5cfd_11ec_b644_f40f240d1c32row1_col2 {\n",
       "            color:  red;\n",
       "            : ;\n",
       "            color:  red;\n",
       "            : ;\n",
       "        }    #T_7bfa9efa_5cfd_11ec_b644_f40f240d1c32row1_col3 {\n",
       "            color:  black;\n",
       "            : ;\n",
       "            color:  black;\n",
       "            : ;\n",
       "        }    #T_7bfa9efa_5cfd_11ec_b644_f40f240d1c32row1_col4 {\n",
       "            color:  black;\n",
       "            : ;\n",
       "            color:  black;\n",
       "            : ;\n",
       "        }    #T_7bfa9efa_5cfd_11ec_b644_f40f240d1c32row2_col0 {\n",
       "            color:  black;\n",
       "            : ;\n",
       "            color:  black;\n",
       "            : ;\n",
       "        }    #T_7bfa9efa_5cfd_11ec_b644_f40f240d1c32row2_col1 {\n",
       "            color:  red;\n",
       "            : ;\n",
       "            color:  red;\n",
       "            : ;\n",
       "        }    #T_7bfa9efa_5cfd_11ec_b644_f40f240d1c32row2_col2 {\n",
       "            color:  black;\n",
       "            : ;\n",
       "            color:  black;\n",
       "            : ;\n",
       "        }    #T_7bfa9efa_5cfd_11ec_b644_f40f240d1c32row2_col3 {\n",
       "            color:  black;\n",
       "            : ;\n",
       "            color:  black;\n",
       "            : ;\n",
       "        }    #T_7bfa9efa_5cfd_11ec_b644_f40f240d1c32row2_col4 {\n",
       "            color:  black;\n",
       "            background-color:  yellow;\n",
       "            color:  black;\n",
       "            background-color:  yellow;\n",
       "        }    #T_7bfa9efa_5cfd_11ec_b644_f40f240d1c32row3_col0 {\n",
       "            color:  black;\n",
       "            : ;\n",
       "            color:  black;\n",
       "            : ;\n",
       "        }    #T_7bfa9efa_5cfd_11ec_b644_f40f240d1c32row3_col1 {\n",
       "            color:  black;\n",
       "            : ;\n",
       "            color:  black;\n",
       "            : ;\n",
       "        }    #T_7bfa9efa_5cfd_11ec_b644_f40f240d1c32row3_col2 {\n",
       "            color:  black;\n",
       "            : ;\n",
       "            color:  black;\n",
       "            : ;\n",
       "        }    #T_7bfa9efa_5cfd_11ec_b644_f40f240d1c32row3_col3 {\n",
       "            color:  red;\n",
       "            : ;\n",
       "            color:  red;\n",
       "            : ;\n",
       "        }    #T_7bfa9efa_5cfd_11ec_b644_f40f240d1c32row3_col4 {\n",
       "            color:  black;\n",
       "            : ;\n",
       "            color:  black;\n",
       "            : ;\n",
       "        }    #T_7bfa9efa_5cfd_11ec_b644_f40f240d1c32row4_col0 {\n",
       "            color:  black;\n",
       "            : ;\n",
       "            color:  black;\n",
       "            : ;\n",
       "        }    #T_7bfa9efa_5cfd_11ec_b644_f40f240d1c32row4_col1 {\n",
       "            color:  black;\n",
       "            : ;\n",
       "            color:  black;\n",
       "            : ;\n",
       "        }    #T_7bfa9efa_5cfd_11ec_b644_f40f240d1c32row4_col2 {\n",
       "            color:  black;\n",
       "            : ;\n",
       "            color:  black;\n",
       "            : ;\n",
       "        }    #T_7bfa9efa_5cfd_11ec_b644_f40f240d1c32row4_col3 {\n",
       "            color:  black;\n",
       "            : ;\n",
       "            color:  black;\n",
       "            : ;\n",
       "        }    #T_7bfa9efa_5cfd_11ec_b644_f40f240d1c32row4_col4 {\n",
       "            color:  black;\n",
       "            : ;\n",
       "            color:  black;\n",
       "            : ;\n",
       "        }    #T_7bfa9efa_5cfd_11ec_b644_f40f240d1c32row5_col0 {\n",
       "            color:  black;\n",
       "            : ;\n",
       "            color:  black;\n",
       "            : ;\n",
       "        }    #T_7bfa9efa_5cfd_11ec_b644_f40f240d1c32row5_col1 {\n",
       "            color:  red;\n",
       "            : ;\n",
       "            color:  red;\n",
       "            : ;\n",
       "        }    #T_7bfa9efa_5cfd_11ec_b644_f40f240d1c32row5_col2 {\n",
       "            color:  black;\n",
       "            : ;\n",
       "            color:  black;\n",
       "            : ;\n",
       "        }    #T_7bfa9efa_5cfd_11ec_b644_f40f240d1c32row5_col3 {\n",
       "            color:  black;\n",
       "            : ;\n",
       "            color:  black;\n",
       "            : ;\n",
       "        }    #T_7bfa9efa_5cfd_11ec_b644_f40f240d1c32row5_col4 {\n",
       "            color:  red;\n",
       "            : ;\n",
       "            color:  red;\n",
       "            : ;\n",
       "        }    #T_7bfa9efa_5cfd_11ec_b644_f40f240d1c32row6_col0 {\n",
       "            color:  black;\n",
       "            : ;\n",
       "            color:  black;\n",
       "            : ;\n",
       "        }    #T_7bfa9efa_5cfd_11ec_b644_f40f240d1c32row6_col1 {\n",
       "            color:  black;\n",
       "            : ;\n",
       "            color:  black;\n",
       "            : ;\n",
       "        }    #T_7bfa9efa_5cfd_11ec_b644_f40f240d1c32row6_col2 {\n",
       "            color:  black;\n",
       "            background-color:  yellow;\n",
       "            color:  black;\n",
       "            background-color:  yellow;\n",
       "        }    #T_7bfa9efa_5cfd_11ec_b644_f40f240d1c32row6_col3 {\n",
       "            color:  red;\n",
       "            : ;\n",
       "            color:  red;\n",
       "            : ;\n",
       "        }    #T_7bfa9efa_5cfd_11ec_b644_f40f240d1c32row6_col4 {\n",
       "            color:  black;\n",
       "            : ;\n",
       "            color:  black;\n",
       "            : ;\n",
       "        }    #T_7bfa9efa_5cfd_11ec_b644_f40f240d1c32row7_col0 {\n",
       "            color:  black;\n",
       "            : ;\n",
       "            color:  black;\n",
       "            : ;\n",
       "        }    #T_7bfa9efa_5cfd_11ec_b644_f40f240d1c32row7_col1 {\n",
       "            color:  black;\n",
       "            : ;\n",
       "            color:  black;\n",
       "            : ;\n",
       "        }    #T_7bfa9efa_5cfd_11ec_b644_f40f240d1c32row7_col2 {\n",
       "            color:  black;\n",
       "            : ;\n",
       "            color:  black;\n",
       "            : ;\n",
       "        }    #T_7bfa9efa_5cfd_11ec_b644_f40f240d1c32row7_col3 {\n",
       "            color:  red;\n",
       "            : ;\n",
       "            color:  red;\n",
       "            : ;\n",
       "        }    #T_7bfa9efa_5cfd_11ec_b644_f40f240d1c32row7_col4 {\n",
       "            color:  black;\n",
       "            : ;\n",
       "            color:  black;\n",
       "            : ;\n",
       "        }    #T_7bfa9efa_5cfd_11ec_b644_f40f240d1c32row8_col0 {\n",
       "            color:  black;\n",
       "            : ;\n",
       "            color:  black;\n",
       "            : ;\n",
       "        }    #T_7bfa9efa_5cfd_11ec_b644_f40f240d1c32row8_col1 {\n",
       "            color:  black;\n",
       "            background-color:  yellow;\n",
       "            color:  black;\n",
       "            background-color:  yellow;\n",
       "        }    #T_7bfa9efa_5cfd_11ec_b644_f40f240d1c32row8_col2 {\n",
       "            color:  red;\n",
       "            : ;\n",
       "            color:  red;\n",
       "            : ;\n",
       "        }    #T_7bfa9efa_5cfd_11ec_b644_f40f240d1c32row8_col3 {\n",
       "            color:  black;\n",
       "            background-color:  yellow;\n",
       "            color:  black;\n",
       "            background-color:  yellow;\n",
       "        }    #T_7bfa9efa_5cfd_11ec_b644_f40f240d1c32row8_col4 {\n",
       "            color:  red;\n",
       "            : ;\n",
       "            color:  red;\n",
       "            : ;\n",
       "        }    #T_7bfa9efa_5cfd_11ec_b644_f40f240d1c32row9_col0 {\n",
       "            color:  black;\n",
       "            background-color:  yellow;\n",
       "            color:  black;\n",
       "            background-color:  yellow;\n",
       "        }    #T_7bfa9efa_5cfd_11ec_b644_f40f240d1c32row9_col1 {\n",
       "            color:  red;\n",
       "            : ;\n",
       "            color:  red;\n",
       "            : ;\n",
       "        }    #T_7bfa9efa_5cfd_11ec_b644_f40f240d1c32row9_col2 {\n",
       "            color:  black;\n",
       "            : ;\n",
       "            color:  black;\n",
       "            : ;\n",
       "        }    #T_7bfa9efa_5cfd_11ec_b644_f40f240d1c32row9_col3 {\n",
       "            color:  red;\n",
       "            : ;\n",
       "            color:  red;\n",
       "            : ;\n",
       "        }    #T_7bfa9efa_5cfd_11ec_b644_f40f240d1c32row9_col4 {\n",
       "            color:  black;\n",
       "            : ;\n",
       "            color:  black;\n",
       "            : ;\n",
       "        }</style>  \n",
       "<table id=\"T_7bfa9efa_5cfd_11ec_b644_f40f240d1c32\" > \n",
       "<thead>    <tr> \n",
       "        <th class=\"blank level0\" ></th> \n",
       "        <th class=\"col_heading level0 col0\" >A</th> \n",
       "        <th class=\"col_heading level0 col1\" >B</th> \n",
       "        <th class=\"col_heading level0 col2\" >C</th> \n",
       "        <th class=\"col_heading level0 col3\" >D</th> \n",
       "        <th class=\"col_heading level0 col4\" >E</th> \n",
       "    </tr></thead> \n",
       "<tbody>    <tr> \n",
       "        <th id=\"T_7bfa9efa_5cfd_11ec_b644_f40f240d1c32level0_row0\" class=\"row_heading level0 row0\" >0</th> \n",
       "        <td id=\"T_7bfa9efa_5cfd_11ec_b644_f40f240d1c32row0_col0\" class=\"data row0 col0\" >1</td> \n",
       "        <td id=\"T_7bfa9efa_5cfd_11ec_b644_f40f240d1c32row0_col1\" class=\"data row0 col1\" >132.92%</td> \n",
       "        <td id=\"T_7bfa9efa_5cfd_11ec_b644_f40f240d1c32row0_col2\" class=\"data row0 col2\" >nan</td> \n",
       "        <td id=\"T_7bfa9efa_5cfd_11ec_b644_f40f240d1c32row0_col3\" class=\"data row0 col3\" >-0.31628</td> \n",
       "        <td id=\"T_7bfa9efa_5cfd_11ec_b644_f40f240d1c32row0_col4\" class=\"data row0 col4\" >-0.99081</td> \n",
       "    </tr>    <tr> \n",
       "        <th id=\"T_7bfa9efa_5cfd_11ec_b644_f40f240d1c32level0_row1\" class=\"row_heading level0 row1\" >1</th> \n",
       "        <td id=\"T_7bfa9efa_5cfd_11ec_b644_f40f240d1c32row1_col0\" class=\"data row1 col0\" >2</td> \n",
       "        <td id=\"T_7bfa9efa_5cfd_11ec_b644_f40f240d1c32row1_col1\" class=\"data row1 col1\" >-107.08%</td> \n",
       "        <td id=\"T_7bfa9efa_5cfd_11ec_b644_f40f240d1c32row1_col2\" class=\"data row1 col2\" >-1.43871</td> \n",
       "        <td id=\"T_7bfa9efa_5cfd_11ec_b644_f40f240d1c32row1_col3\" class=\"data row1 col3\" >0.564417</td> \n",
       "        <td id=\"T_7bfa9efa_5cfd_11ec_b644_f40f240d1c32row1_col4\" class=\"data row1 col4\" >0.295722</td> \n",
       "    </tr>    <tr> \n",
       "        <th id=\"T_7bfa9efa_5cfd_11ec_b644_f40f240d1c32level0_row2\" class=\"row_heading level0 row2\" >2</th> \n",
       "        <td id=\"T_7bfa9efa_5cfd_11ec_b644_f40f240d1c32row2_col0\" class=\"data row2 col0\" >3</td> \n",
       "        <td id=\"T_7bfa9efa_5cfd_11ec_b644_f40f240d1c32row2_col1\" class=\"data row2 col1\" >-162.64%</td> \n",
       "        <td id=\"T_7bfa9efa_5cfd_11ec_b644_f40f240d1c32row2_col2\" class=\"data row2 col2\" >0.219565</td> \n",
       "        <td id=\"T_7bfa9efa_5cfd_11ec_b644_f40f240d1c32row2_col3\" class=\"data row2 col3\" >0.678805</td> \n",
       "        <td id=\"T_7bfa9efa_5cfd_11ec_b644_f40f240d1c32row2_col4\" class=\"data row2 col4\" >1.88927</td> \n",
       "    </tr>    <tr> \n",
       "        <th id=\"T_7bfa9efa_5cfd_11ec_b644_f40f240d1c32level0_row3\" class=\"row_heading level0 row3\" >3</th> \n",
       "        <td id=\"T_7bfa9efa_5cfd_11ec_b644_f40f240d1c32row3_col0\" class=\"data row3 col0\" >4</td> \n",
       "        <td id=\"T_7bfa9efa_5cfd_11ec_b644_f40f240d1c32row3_col1\" class=\"data row3 col1\" >96.15%</td> \n",
       "        <td id=\"T_7bfa9efa_5cfd_11ec_b644_f40f240d1c32row3_col2\" class=\"data row3 col2\" >0.104011</td> \n",
       "        <td id=\"T_7bfa9efa_5cfd_11ec_b644_f40f240d1c32row3_col3\" class=\"data row3 col3\" >-0.481165</td> \n",
       "        <td id=\"T_7bfa9efa_5cfd_11ec_b644_f40f240d1c32row3_col4\" class=\"data row3 col4\" >0.850229</td> \n",
       "    </tr>    <tr> \n",
       "        <th id=\"T_7bfa9efa_5cfd_11ec_b644_f40f240d1c32level0_row4\" class=\"row_heading level0 row4\" >4</th> \n",
       "        <td id=\"T_7bfa9efa_5cfd_11ec_b644_f40f240d1c32row4_col0\" class=\"data row4 col0\" >5</td> \n",
       "        <td id=\"T_7bfa9efa_5cfd_11ec_b644_f40f240d1c32row4_col1\" class=\"data row4 col1\" >145.34%</td> \n",
       "        <td id=\"T_7bfa9efa_5cfd_11ec_b644_f40f240d1c32row4_col2\" class=\"data row4 col2\" >1.05774</td> \n",
       "        <td id=\"T_7bfa9efa_5cfd_11ec_b644_f40f240d1c32row4_col3\" class=\"data row4 col3\" >0.165562</td> \n",
       "        <td id=\"T_7bfa9efa_5cfd_11ec_b644_f40f240d1c32row4_col4\" class=\"data row4 col4\" >0.515018</td> \n",
       "    </tr>    <tr> \n",
       "        <th id=\"T_7bfa9efa_5cfd_11ec_b644_f40f240d1c32level0_row5\" class=\"row_heading level0 row5\" >5</th> \n",
       "        <td id=\"T_7bfa9efa_5cfd_11ec_b644_f40f240d1c32row5_col0\" class=\"data row5 col0\" >6</td> \n",
       "        <td id=\"T_7bfa9efa_5cfd_11ec_b644_f40f240d1c32row5_col1\" class=\"data row5 col1\" >-133.69%</td> \n",
       "        <td id=\"T_7bfa9efa_5cfd_11ec_b644_f40f240d1c32row5_col2\" class=\"data row5 col2\" >0.562861</td> \n",
       "        <td id=\"T_7bfa9efa_5cfd_11ec_b644_f40f240d1c32row5_col3\" class=\"data row5 col3\" >1.39285</td> \n",
       "        <td id=\"T_7bfa9efa_5cfd_11ec_b644_f40f240d1c32row5_col4\" class=\"data row5 col4\" >-0.063328</td> \n",
       "    </tr>    <tr> \n",
       "        <th id=\"T_7bfa9efa_5cfd_11ec_b644_f40f240d1c32level0_row6\" class=\"row_heading level0 row6\" >6</th> \n",
       "        <td id=\"T_7bfa9efa_5cfd_11ec_b644_f40f240d1c32row6_col0\" class=\"data row6 col0\" >7</td> \n",
       "        <td id=\"T_7bfa9efa_5cfd_11ec_b644_f40f240d1c32row6_col1\" class=\"data row6 col1\" >12.17%</td> \n",
       "        <td id=\"T_7bfa9efa_5cfd_11ec_b644_f40f240d1c32row6_col2\" class=\"data row6 col2\" >1.2076</td> \n",
       "        <td id=\"T_7bfa9efa_5cfd_11ec_b644_f40f240d1c32row6_col3\" class=\"data row6 col3\" >-0.00204021</td> \n",
       "        <td id=\"T_7bfa9efa_5cfd_11ec_b644_f40f240d1c32row6_col4\" class=\"data row6 col4\" >1.6278</td> \n",
       "    </tr>    <tr> \n",
       "        <th id=\"T_7bfa9efa_5cfd_11ec_b644_f40f240d1c32level0_row7\" class=\"row_heading level0 row7\" >7</th> \n",
       "        <td id=\"T_7bfa9efa_5cfd_11ec_b644_f40f240d1c32row7_col0\" class=\"data row7 col0\" >8</td> \n",
       "        <td id=\"T_7bfa9efa_5cfd_11ec_b644_f40f240d1c32row7_col1\" class=\"data row7 col1\" >35.45%</td> \n",
       "        <td id=\"T_7bfa9efa_5cfd_11ec_b644_f40f240d1c32row7_col2\" class=\"data row7 col2\" >1.03753</td> \n",
       "        <td id=\"T_7bfa9efa_5cfd_11ec_b644_f40f240d1c32row7_col3\" class=\"data row7 col3\" >-0.385684</td> \n",
       "        <td id=\"T_7bfa9efa_5cfd_11ec_b644_f40f240d1c32row7_col4\" class=\"data row7 col4\" >0.519818</td> \n",
       "    </tr>    <tr> \n",
       "        <th id=\"T_7bfa9efa_5cfd_11ec_b644_f40f240d1c32level0_row8\" class=\"row_heading level0 row8\" >8</th> \n",
       "        <td id=\"T_7bfa9efa_5cfd_11ec_b644_f40f240d1c32row8_col0\" class=\"data row8 col0\" >9</td> \n",
       "        <td id=\"T_7bfa9efa_5cfd_11ec_b644_f40f240d1c32row8_col1\" class=\"data row8 col1\" >168.66%</td> \n",
       "        <td id=\"T_7bfa9efa_5cfd_11ec_b644_f40f240d1c32row8_col2\" class=\"data row8 col2\" >-1.32596</td> \n",
       "        <td id=\"T_7bfa9efa_5cfd_11ec_b644_f40f240d1c32row8_col3\" class=\"data row8 col3\" >1.42898</td> \n",
       "        <td id=\"T_7bfa9efa_5cfd_11ec_b644_f40f240d1c32row8_col4\" class=\"data row8 col4\" >-2.08935</td> \n",
       "    </tr>    <tr> \n",
       "        <th id=\"T_7bfa9efa_5cfd_11ec_b644_f40f240d1c32level0_row9\" class=\"row_heading level0 row9\" >9</th> \n",
       "        <td id=\"T_7bfa9efa_5cfd_11ec_b644_f40f240d1c32row9_col0\" class=\"data row9 col0\" >10</td> \n",
       "        <td id=\"T_7bfa9efa_5cfd_11ec_b644_f40f240d1c32row9_col1\" class=\"data row9 col1\" >-12.98%</td> \n",
       "        <td id=\"T_7bfa9efa_5cfd_11ec_b644_f40f240d1c32row9_col2\" class=\"data row9 col2\" >0.631523</td> \n",
       "        <td id=\"T_7bfa9efa_5cfd_11ec_b644_f40f240d1c32row9_col3\" class=\"data row9 col3\" >-0.586538</td> \n",
       "        <td id=\"T_7bfa9efa_5cfd_11ec_b644_f40f240d1c32row9_col4\" class=\"data row9 col4\" >0.29072</td> \n",
       "    </tr></tbody> \n",
       "</table> "
      ],
      "text/plain": [
       "<pandas.io.formats.style.Styler at 0x7fb6cd60f048>"
      ]
     },
     "execution_count": 2,
     "metadata": {},
     "output_type": "execute_result"
    }
   ],
   "source": [
    "# Initialize example dataframe\n",
    "np.random.seed(24)\n",
    "df = pd.DataFrame({'A': np.linspace(1, 10, 10)})\n",
    "df = pd.concat([df, pd.DataFrame(np.random.randn(10, 4), columns=list('BCDE'))], axis=1)\n",
    "df.iloc[0, 2] = np.nan\n",
    "\n",
    "def highlight_max(s):\n",
    "    \"\"\"Styling function: highlights the maximum in a Series yellow.\"\"\"\n",
    "    is_max = s == s.max()\n",
    "    return ['background-color: yellow' if v else '' for v in is_max]\n",
    "\n",
    "def color_negative_red(val):\n",
    "    \"\"\"Styling function: apply red font color to negative values.\"\"\"\n",
    "    color = 'red' if val < 0 else 'black'\n",
    "    return f'color: {color}'\n",
    "\n",
    "# Apply conditional formatting to dataframe\n",
    "styled = df.style.applymap(color_negative_red).apply(highlight_max)\\\n",
    "        .format(formatter={'B':'{:.2%}'})\n",
    "# styled = df.style.format(formatter={'B':'{:.2%}'})\n",
    "\n",
    "\n",
    "# Export styled dataframe to excel\n",
    "styled.to_excel('styled.xlsx', engine='xlsxwriter')\n",
    "# styled.to_excel('styled.xlsx')\n",
    "styled"
   ]
  },
  {
   "cell_type": "markdown",
   "metadata": {},
   "source": [
    "# Plot time-series\n",
    "1. x-axis use 'string': skip weekends/holidays \n",
    "2. x-axis use 'datetime': keep weekends/holidays as gaps"
   ]
  },
  {
   "cell_type": "code",
   "execution_count": 3,
   "metadata": {
    "tags": []
   },
   "outputs": [],
   "source": [
    "from pandas_datareader import data\n",
    "# aapl = data.DataReader(\"AAPL\", \n",
    "#                        start='2015-1-1', \n",
    "#                        end='2015-12-31', \n",
    "#                        data_source='yahoo')['Adj Close']\n",
    "# aapl\n",
    "\n",
    "#TODO: errors\n"
   ]
  },
  {
   "cell_type": "code",
   "execution_count": 4,
   "metadata": {},
   "outputs": [],
   "source": [
    "tickers = ['AAPL', 'SPY', 'VIX']\n",
    "# ticker = tickers[0]\n",
    "dat = {ticker: pd.read_csv(Path('./input', f'{ticker}.csv'), index_col=0, parse_dates=True) \n",
    "       for ticker in tickers}\n",
    "retn = {key: val.shift(-1)/val - 1 for key, val in dat.items()}\n",
    "# retn"
   ]
  },
  {
   "cell_type": "code",
   "execution_count": 5,
   "metadata": {},
   "outputs": [
    {
     "data": {
      "text/plain": [
       "<matplotlib.axes._subplots.AxesSubplot at 0x7fb6d0e9db00>"
      ]
     },
     "execution_count": 5,
     "metadata": {},
     "output_type": "execute_result"
    },
    {
     "data": {
      "image/png": "[encoded data removed]",
      "text/plain": [
       "<Figure size 432x288 with 1 Axes>"
      ]
     },
     "metadata": {
      "needs_background": "light"
     },
     "output_type": "display_data"
    }
   ],
   "source": [
    "# df.plot: bar plot messes up axis\n",
    "df0 = retn['SPY'].loc['2020-03-01':'2020-03-10', 'Close']\n",
    "df1 = retn['VIX'].loc['2020-02-25':'2020-03-05', 'Close']\n",
    "df2 = retn['AAPL'].loc['2020-02-15':'2020-03-05', 'Close']\n",
    "\n",
    "fig, ax = plt.subplots()\n",
    "df0.plot(ax=ax)\n",
    "df1.plot(ax=ax)\n",
    "# df2.plot(kind='bar', ax=ax)"
   ]
  },
  {
   "cell_type": "code",
   "execution_count": 57,
   "metadata": {},
   "outputs": [],
   "source": [
    "# fig, ax = plt.subplots()\n",
    "# fig.autofmt_xdate()\n",
    "# xdat =  lambda z: z\n",
    "# ax.plot(xdat(dat2.index), dat2)\n",
    "# # ax.xaxis.set_major_locator(ticker.MaxNLocator('auto'))"
   ]
  },
  {
   "cell_type": "code",
   "execution_count": 68,
   "metadata": {
    "tags": []
   },
   "outputs": [
    {
     "name": "stdout",
     "output_type": "stream",
     "text": [
      "['2020-02-18', '2020-02-19', '2020-02-20', '2020-02-21', '2020-02-24', '2020-02-25', '2020-02-26', '2020-02-27', '2020-02-28', '2020-03-02', '2020-03-03', '2020-03-04', '2020-03-05', '2020-03-06', '2020-03-09', '2020-03-10']\n",
      "['2020-03-02', '2020-03-03', '2020-03-04', '2020-03-05']\n",
      "DatetimeIndex(['2020-02-18', '2020-02-19', '2020-02-20', '2020-02-21',\n",
      "               '2020-02-24', '2020-02-25', '2020-02-26', '2020-02-27',\n",
      "               '2020-02-28', '2020-03-02', '2020-03-03', '2020-03-04',\n",
      "               '2020-03-05', '2020-03-06', '2020-03-09', '2020-03-10'],\n",
      "              dtype='datetime64[ns]', name='Date', freq=None)\n",
      "DatetimeIndex(['2020-03-02', '2020-03-03', '2020-03-04', '2020-03-05'], dtype='datetime64[ns]', name='Date', freq='D')\n"
     ]
    },
    {
     "data": {
      "image/png": "[encoded data removed]",
      "text/plain": [
       "<Figure size 864x432 with 2 Axes>"
      ]
     },
     "metadata": {
      "needs_background": "light"
     },
     "output_type": "display_data"
    },
    {
     "data": {
      "image/png": "[encoded data removed]",
      "text/plain": [
       "<Figure size 864x432 with 2 Axes>"
      ]
     },
     "metadata": {
      "needs_background": "light"
     },
     "output_type": "display_data"
    }
   ],
   "source": [
    "# ax.plot: compare 'string' to 'datetime' for x-axis\n",
    "# TODO: datetime x-axis has format issues with labelings (bottom 2 charts)\n",
    "dat0 = retn['SPY'].loc['2020-03-01':'2020-03-10', 'Close']\n",
    "dat1 = retn['VIX'].loc['2020-02-25':'2020-03-05', 'Close']\n",
    "dat2 = retn['AAPL'].loc['2020-02-15':'2020-03-05', 'Close']\n",
    "dats = [dat0, dat1, dat2]\n",
    "\n",
    "def plot_ts(x_type, date_union, ax):\n",
    "    if x_type == 'string': \n",
    "        ax.xaxis.set_major_locator(ticker.MaxNLocator('auto'))\n",
    "        xdat = lambda z: [t.strftime('%Y-%m-%d') for t in z]\n",
    "\n",
    "    elif x_type == 'datetime':       \n",
    "        xdat =  lambda z: z\n",
    "        \n",
    "    # for date union: use or_ and dat0.loc to fill in NaNs to avoid plotting 'wrappinng around'\n",
    "    time_func = operator.or_ if date_union else operator.and_ \n",
    "    dts = reduce(time_func, [dat.index for dat in dats])\n",
    "    df0, df1, df2 = dat0.loc[dts], dat1.loc[dts], dat2.loc[dts]\n",
    "    \n",
    "    print(xdat(df0.index))\n",
    "    ax.plot(xdat(df0.index), df0)\n",
    "    ax.plot(xdat(df1.index), df1)\n",
    "    ax.bar(xdat(df2.index), df2)\n",
    "    ax.set_title(f'X-axis: {x_type}; Date Union: {date_union}')\n",
    "\n",
    "fig, axes = plt.subplots(1, 2, figsize=(12, 6))\n",
    "fig.autofmt_xdate()\n",
    "\n",
    "x_types =  ['string', 'datetime']\n",
    "# flag_intersect = False\n",
    "# x_type = x_types[0]\n",
    "plot_ts(x_types[0], True, axes[0])\n",
    "plot_ts(x_types[0], False, axes[1])\n",
    "\n",
    "fig, axes = plt.subplots(1, 2, figsize=(12, 6))\n",
    "fig.autofmt_xdate()\n",
    "plot_ts(x_types[1], True, axes[0])\n",
    "plot_ts(x_types[1], False, axes[1])"
   ]
  },
  {
   "cell_type": "markdown",
   "metadata": {},
   "source": [
    "# Regular Expressionn"
   ]
  },
  {
   "cell_type": "code",
   "execution_count": 7,
   "metadata": {},
   "outputs": [
    {
     "data": {
      "text/plain": [
       "[[], ['6M 25D, outright'], [], [], [], [], [], [], ['6M delta-hedged cash']]"
      ]
     },
     "metadata": {},
     "output_type": "display_data"
    },
    {
     "data": {
      "text/plain": [
       "[None,\n",
       " <_sre.SRE_Match object; span=(4, 20), match='6M 25D, outright'>,\n",
       " None,\n",
       " None,\n",
       " None,\n",
       " None,\n",
       " None,\n",
       " None,\n",
       " <_sre.SRE_Match object; span=(4, 24), match='6M delta-hedged cash'>]"
      ]
     },
     "metadata": {},
     "output_type": "display_data"
    }
   ],
   "source": [
    "keywords = [' VX1', 'SPX 6M 25D, outright opt', 'VX10', 'VX9', 'SPX 6M 25D delta-hedged forward', \n",
    "            'VA2', 'SPX', 'SPX 1M outright', 'SPX 6M delta-hedged cash']\n",
    "regex = r\"VX\\d+|6M delta\"\n",
    "regex =r\"\\b6M\\b.*\\boutright|\\b6M\\b.*\\bcash\\b\"\n",
    "display([re.findall(regex, key) for key in keywords])\n",
    "display([re.search(regex, key) for key in keywords])"
   ]
  },
  {
   "cell_type": "markdown",
   "metadata": {},
   "source": [
    "# Logging"
   ]
  },
  {
   "cell_type": "code",
   "execution_count": 8,
   "metadata": {},
   "outputs": [
    {
     "name": "stdout",
     "output_type": "stream",
     "text": [
      "{'A': {0: 1.0, 1: 2.0, 2: 3.0, 3: 4.0, 4: 5.0, 5: 6.0, 6: 7.0, 7: 8.0, 8: 9.0, 9: 10.0}, 'B': {0: 1.3292121726491863, 1: -1.0708162556202396, 2: -1.626404233310685, 3: 0.9615383986783163, 4: 1.4534246664060821, 5: -1.3369356857829062, 6: 0.12166836153455808, 7: 0.35449278572224, 8: 1.6865828874516027, 9: -0.12981993743229778}, 'C': {0: nan, 1: -1.4387132798348028, 2: 0.21956519874807617, 3: 0.10401119568373923, 4: 1.0577374355811098, 5: 0.5628611367075439, 6: 1.2076025381991033, 7: 1.0375276327263334, 8: -1.325963145762744, 9: 0.6315229493643316}, 'D': {0: -0.31628035962142975, 1: 0.5644168515196336, 2: 0.6788047990250634, 3: -0.481165317281003, 4: 0.16556160715827276, 5: 1.39285482506846, 6: -0.0020402149102765046, 7: -0.3856835127679468, 8: 1.4289837002109638, 9: -0.5865380642949874}, 'E': {0: -0.990810386640961, 1: 0.29572188762233814, 2: 1.8892727314152815, 3: 0.8502285312282443, 4: 0.515018378039662, 5: -0.06332798345060607, 6: 1.627795744482153, 7: 0.5198180007843201, 8: -2.0893542774693676, 9: 0.2907200809776823}}\n"
     ]
    },
    {
     "data": {
      "text/plain": [
       "dict_keys(['A', 'B', 'C', 'D', 'E'])"
      ]
     },
     "execution_count": 8,
     "metadata": {},
     "output_type": "execute_result"
    }
   ],
   "source": [
    "dic = df.to_dict()\n",
    "print(dic)\n",
    "dic.keys()"
   ]
  },
  {
   "cell_type": "code",
   "execution_count": null,
   "metadata": {},
   "outputs": [],
   "source": [
    "from abc import ABC, abstractmethod\n",
    "\n",
    "class Vehicle(ABC):\n",
    "    \n",
    "    def __init__(self, wheels, seat, engine, steering):\n",
    "        self._wheels = wheels\n",
    "        self.sett = seat\n",
    "        self.engine = engine\n",
    "        self.steering = steering\n",
    "    \n",
    "    @abstractmethod\n",
    "    def drive(self):\n",
    "        print('not implemented')\n",
    "        \n",
    "    ## C++\n",
    "    virtual int drive() = 0;\n",
    "    \n",
    "class Car(Vehicle):\n",
    "    \n",
    "    def drive(self):\n",
    "        pass\n",
    "    "
   ]
  },
  {
   "cell_type": "code",
   "execution_count": null,
   "metadata": {},
   "outputs": [],
   "source": [
    "car = Vehicle()\n",
    "car."
   ]
  },
  {
   "cell_type": "code",
   "execution_count": null,
   "metadata": {},
   "outputs": [],
   "source": [
    "s = 'My name is Phil'\n",
    "for c in s[::-1]:\n",
    "    "
   ]
  }
 ],
 "metadata": {
  "kernelspec": {
   "display_name": "Python 3 (ipykernel)",
   "language": "python",
   "name": "python3"
  },
  "language_info": {
   "codemirror_mode": {
    "name": "ipython",
    "version": 3
   },
   "file_extension": ".py",
   "mimetype": "text/x-python",
   "name": "python",
   "nbconvert_exporter": "python",
   "pygments_lexer": "ipython3",
   "version": "3.9.7"
  }
 },
 "nbformat": 4,
 "nbformat_minor": 4
}
