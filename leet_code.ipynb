{
 "cells": [
  {
   "cell_type": "code",
   "execution_count": 15,
   "metadata": {},
   "outputs": [],
   "source": [
    "import numpy as np\n",
    "import pandas as pd"
   ]
  },
  {
   "cell_type": "code",
   "execution_count": null,
   "metadata": {},
   "outputs": [],
   "source": []
  },
  {
   "cell_type": "markdown",
   "metadata": {},
   "source": [
    "# LC 1: Two sum"
   ]
  },
  {
   "cell_type": "code",
   "execution_count": 15,
   "metadata": {},
   "outputs": [],
   "source": [
    "nums = [2,7,11,15]; target = 9"
   ]
  },
  {
   "cell_type": "code",
   "execution_count": 16,
   "metadata": {},
   "outputs": [
    {
     "data": {
      "text/plain": [
       "(0, 1)"
      ]
     },
     "execution_count": 16,
     "metadata": {},
     "output_type": "execute_result"
    }
   ],
   "source": [
    "def two_sum(nums, target):    \n",
    "    # build hash\n",
    "    ht = {num:i for i, num in enumerate(nums)}\n",
    "    # check if 2 sum forms\n",
    "    for num in nums:\n",
    "        if target - num in ht:\n",
    "            return ht[num], ht[target - num]\n",
    "    return None\n",
    "two_sum(nums, target)"
   ]
  },
  {
   "cell_type": "code",
   "execution_count": 2,
   "metadata": {},
   "outputs": [],
   "source": [
    "from collections import Counter, defaultdict"
   ]
  },
  {
   "cell_type": "code",
   "execution_count": null,
   "metadata": {},
   "outputs": [],
   "source": [
    "def compute_top_k_variance(students, scores, k):\n",
    "    '''\n",
    "    students and scores are equal length lists of strings and floats, respectively. \n",
    "    The function computes for each string that appears at least k times in the list \n",
    "    the variance of the top k scores that correspond to it.\n",
    "    Strings that appear fewer than k times are not considered.\n",
    "    '''\n",
    "    cnt = Counter(students)\n",
    "    stu_sc = defaultdict(list)\n",
    "    for k, val in zip(students, score):\n",
    "        if cnt[key] >= k:\n",
    "            stu_sc[k].append(val)\n",
    "    res = {}\n",
    "    for k, val in stu_sc:\n",
    "        res[key] = np.var(sorted(val, reverse=True))\n",
    "    return res"
   ]
  },
  {
   "cell_type": "markdown",
   "metadata": {
    "tags": []
   },
   "source": [
    "# LC 41 First missing positive\n",
    "## First missing integar (codility practice)"
   ]
  },
  {
   "cell_type": "code",
   "execution_count": 18,
   "metadata": {},
   "outputs": [
    {
     "data": {
      "text/plain": [
       "5"
      ]
     },
     "execution_count": 18,
     "metadata": {},
     "output_type": "execute_result"
    }
   ],
   "source": [
    "def solution(A):\n",
    "    # write your code in Python 3.6\n",
    "    B = [a for a in sorted(A) if a >= 0]\n",
    "    # print(B)\n",
    "    i = 1\n",
    "    if (not len(B)) or B[0] > 1:\n",
    "        return 1\n",
    "    while i < len(B):\n",
    "        # print(B[i])\n",
    "        if B[i] - B[i-1] > 1:\n",
    "            return B[i-1] + 1\n",
    "        else:\n",
    "            i += 1   \n",
    "    return B[-1] + 1\n",
    "\n",
    "A = [-1343, 1, 3, 6, 4, 1, 2, 10000]\n",
    "solution(A)"
   ]
  },
  {
   "cell_type": "markdown",
   "metadata": {},
   "source": [
    "# LC 26 Remove Duplicates from Sorted Array"
   ]
  },
  {
   "cell_type": "code",
   "execution_count": null,
   "metadata": {},
   "outputs": [],
   "source": []
  },
  {
   "cell_type": "markdown",
   "metadata": {},
   "source": [
    "## Cookbook 1.10 Remove Duplicates from a Sequence while Maintaining Order"
   ]
  },
  {
   "cell_type": "code",
   "execution_count": 13,
   "metadata": {},
   "outputs": [
    {
     "name": "stdout",
     "output_type": "stream",
     "text": [
      "0.400000\n",
      "0.200000\n",
      "10.000000\n",
      "\n"
     ]
    }
   ],
   "source": [
    "arr = [3 ,1, 0, -1, 0.]\n",
    "n = len(arr)\n",
    "p = sum(1 for a in arr if a > 0) / n\n",
    "n = sum(1 for a in arr if a < 0) / n\n",
    "z = sum(1 for a in arr if a == 0) / n\n",
    "print(f\"{p:.6f}\\n{n:.6f}\\n{z:.6f}\\n\")"
   ]
  }
 ],
 "metadata": {
  "kernelspec": {
   "display_name": "Python 3 (ipykernel)",
   "language": "python",
   "name": "python3"
  },
  "language_info": {
   "codemirror_mode": {
    "name": "ipython",
    "version": 3
   },
   "file_extension": ".py",
   "mimetype": "text/x-python",
   "name": "python",
   "nbconvert_exporter": "python",
   "pygments_lexer": "ipython3",
   "version": "3.9.7"
  }
 },
 "nbformat": 4,
 "nbformat_minor": 4
}
